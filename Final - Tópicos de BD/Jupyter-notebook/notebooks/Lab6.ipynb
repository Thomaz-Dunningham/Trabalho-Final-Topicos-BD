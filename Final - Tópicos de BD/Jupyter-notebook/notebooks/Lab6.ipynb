{
 "cells": [
  {
   "cell_type": "code",
   "execution_count": 1,
   "id": "3d6eabc5",
   "metadata": {
    "papermill": {
     "duration": 4.553047,
     "end_time": "2025-01-23T16:00:04.512704",
     "exception": false,
     "start_time": "2025-01-23T15:59:59.959657",
     "status": "completed"
    },
    "tags": []
   },
   "outputs": [],
   "source": [
    "import numpy as np\n",
    "import pandas as pd\n",
    "import plotly.express as px\n",
    "import seaborn as sns\n",
    "import matplotlib.pyplot as plt\n",
    "from sklearn.metrics import accuracy_score, precision_score, recall_score, f1_score, confusion_matrix\n",
    "import re\n",
    "import nltk\n",
    "from nltk.corpus import stopwords\n",
    "import tqdm\n",
    "from wordcloud import WordCloud\n",
    "from sklearn.feature_extraction.text import CountVectorizer,TfidfTransformer\n",
    "import string\n",
    "from sklearn.model_selection import train_test_split,cross_val_score\n",
    "from imblearn.over_sampling import SMOTE\n",
    "from sklearn.tree import DecisionTreeClassifier\n",
    "from sklearn.ensemble import RandomForestClassifier\n",
    "from sklearn.metrics import accuracy_score\n",
    "import spacy\n",
    "from sklearn.feature_extraction.text import CountVectorizer\n",
    "from sklearn.metrics import accuracy_score, classification_report\n",
    "\n",
    "\n",
    "from warnings import filterwarnings\n",
    "filterwarnings('ignore')\n",
    "\n",
    "pd.set_option('display.max_colwidth',100)"
   ]
  },
  {
   "cell_type": "code",
   "execution_count": 2,
   "id": "57f6a6e2",
   "metadata": {
    "papermill": {
     "duration": 0.198228,
     "end_time": "2025-01-23T16:00:04.726164",
     "exception": false,
     "start_time": "2025-01-23T16:00:04.527936",
     "status": "completed"
    },
    "scrolled": true,
    "tags": []
   },
   "outputs": [
    {
     "data": {
      "text/html": [
       "<div>\n",
       "<style scoped>\n",
       "    .dataframe tbody tr th:only-of-type {\n",
       "        vertical-align: middle;\n",
       "    }\n",
       "\n",
       "    .dataframe tbody tr th {\n",
       "        vertical-align: top;\n",
       "    }\n",
       "\n",
       "    .dataframe thead th {\n",
       "        text-align: right;\n",
       "    }\n",
       "</style>\n",
       "<table border=\"1\" class=\"dataframe\">\n",
       "  <thead>\n",
       "    <tr style=\"text-align: right;\">\n",
       "      <th></th>\n",
       "      <th>Text</th>\n",
       "      <th>Label</th>\n",
       "    </tr>\n",
       "  </thead>\n",
       "  <tbody>\n",
       "    <tr>\n",
       "      <th>0</th>\n",
       "      <td>Budget to set scene for election\\n \\n Gordon Brown will seek to put the economy at the centre of...</td>\n",
       "      <td>0</td>\n",
       "    </tr>\n",
       "    <tr>\n",
       "      <th>1</th>\n",
       "      <td>Army chiefs in regiments decision\\n \\n Military chiefs are expected to meet to make a final deci...</td>\n",
       "      <td>0</td>\n",
       "    </tr>\n",
       "    <tr>\n",
       "      <th>2</th>\n",
       "      <td>Howard denies split over ID cards\\n \\n Michael Howard has denied his shadow cabinet was split ov...</td>\n",
       "      <td>0</td>\n",
       "    </tr>\n",
       "    <tr>\n",
       "      <th>3</th>\n",
       "      <td>Observers to monitor UK election\\n \\n Ministers will invite international observers to check the...</td>\n",
       "      <td>0</td>\n",
       "    </tr>\n",
       "    <tr>\n",
       "      <th>4</th>\n",
       "      <td>Kilroy names election seat target\\n \\n Ex-chat show host Robert Kilroy-Silk is to contest the De...</td>\n",
       "      <td>0</td>\n",
       "    </tr>\n",
       "  </tbody>\n",
       "</table>\n",
       "</div>"
      ],
      "text/plain": [
       "                                                                                                  Text  \\\n",
       "0  Budget to set scene for election\\n \\n Gordon Brown will seek to put the economy at the centre of...   \n",
       "1  Army chiefs in regiments decision\\n \\n Military chiefs are expected to meet to make a final deci...   \n",
       "2  Howard denies split over ID cards\\n \\n Michael Howard has denied his shadow cabinet was split ov...   \n",
       "3  Observers to monitor UK election\\n \\n Ministers will invite international observers to check the...   \n",
       "4  Kilroy names election seat target\\n \\n Ex-chat show host Robert Kilroy-Silk is to contest the De...   \n",
       "\n",
       "   Label  \n",
       "0      0  \n",
       "1      0  \n",
       "2      0  \n",
       "3      0  \n",
       "4      0  "
      ]
     },
     "execution_count": 2,
     "metadata": {},
     "output_type": "execute_result"
    }
   ],
   "source": [
    "df = pd.read_csv('./df_file.csv') # encoding='latin-1'\n",
    "df.head()"
   ]
  },
  {
   "cell_type": "code",
   "execution_count": 3,
   "id": "443b21a7",
   "metadata": {
    "papermill": {
     "duration": 0.041595,
     "end_time": "2025-01-23T16:00:04.782671",
     "exception": false,
     "start_time": "2025-01-23T16:00:04.741076",
     "status": "completed"
    },
    "scrolled": true,
    "tags": []
   },
   "outputs": [
    {
     "name": "stdout",
     "output_type": "stream",
     "text": [
      "<class 'pandas.core.frame.DataFrame'>\n",
      "RangeIndex: 2225 entries, 0 to 2224\n",
      "Data columns (total 2 columns):\n",
      " #   Column  Non-Null Count  Dtype \n",
      "---  ------  --------------  ----- \n",
      " 0   Text    2225 non-null   object\n",
      " 1   Label   2225 non-null   int64 \n",
      "dtypes: int64(1), object(1)\n",
      "memory usage: 34.9+ KB\n"
     ]
    }
   ],
   "source": [
    "df.info()"
   ]
  },
  {
   "cell_type": "code",
   "execution_count": 4,
   "id": "5475e907",
   "metadata": {
    "papermill": {
     "duration": 0.023746,
     "end_time": "2025-01-23T16:00:04.821951",
     "exception": false,
     "start_time": "2025-01-23T16:00:04.798205",
     "status": "completed"
    },
    "tags": []
   },
   "outputs": [
    {
     "data": {
      "text/plain": [
       "(2225, 2)"
      ]
     },
     "execution_count": 4,
     "metadata": {},
     "output_type": "execute_result"
    }
   ],
   "source": [
    "df.shape"
   ]
  },
  {
   "cell_type": "code",
   "execution_count": null,
   "id": "52d847ad",
   "metadata": {
    "papermill": {
     "duration": 0.025197,
     "end_time": "2025-01-23T16:00:04.862272",
     "exception": false,
     "start_time": "2025-01-23T16:00:04.837075",
     "status": "completed"
    },
    "tags": []
   },
   "outputs": [],
   "source": [
    "df.Label.unique()"
   ]
  },
  {
   "cell_type": "code",
   "execution_count": null,
   "id": "09aae96e",
   "metadata": {
    "papermill": {
     "duration": 0.039452,
     "end_time": "2025-01-23T16:00:04.916807",
     "exception": false,
     "start_time": "2025-01-23T16:00:04.877355",
     "status": "completed"
    },
    "tags": []
   },
   "outputs": [],
   "source": [
    "df.duplicated().sum()"
   ]
  },
  {
   "cell_type": "code",
   "execution_count": null,
   "id": "67da7332",
   "metadata": {
    "papermill": {
     "duration": 0.052332,
     "end_time": "2025-01-23T16:00:04.984675",
     "exception": false,
     "start_time": "2025-01-23T16:00:04.932343",
     "status": "completed"
    },
    "tags": []
   },
   "outputs": [],
   "source": [
    "df.drop_duplicates(keep='last', inplace=True)\n",
    "df.duplicated().sum()"
   ]
  },
  {
   "cell_type": "code",
   "execution_count": null,
   "id": "aee414a7",
   "metadata": {
    "papermill": {
     "duration": 0.024352,
     "end_time": "2025-01-23T16:00:05.024109",
     "exception": false,
     "start_time": "2025-01-23T16:00:04.999757",
     "status": "completed"
    },
    "tags": []
   },
   "outputs": [],
   "source": [
    "df.isnull().values.any()"
   ]
  },
  {
   "cell_type": "code",
   "execution_count": null,
   "id": "2088d350",
   "metadata": {
    "papermill": {
     "duration": 0.026984,
     "end_time": "2025-01-23T16:00:05.066604",
     "exception": false,
     "start_time": "2025-01-23T16:00:05.039620",
     "status": "completed"
    },
    "tags": []
   },
   "outputs": [],
   "source": [
    "df.head()"
   ]
  },
  {
   "cell_type": "code",
   "execution_count": null,
   "id": "25ae4f34",
   "metadata": {
    "papermill": {
     "duration": 0.026757,
     "end_time": "2025-01-23T16:00:05.108871",
     "exception": false,
     "start_time": "2025-01-23T16:00:05.082114",
     "status": "completed"
    },
    "tags": []
   },
   "outputs": [],
   "source": [
    "df.replace({0:\"Politics\", 1:\"Sport\", 2:\"Technology\", 3:\"Entertainment\", 4:\"Business\"}, inplace=True)"
   ]
  },
  {
   "cell_type": "code",
   "execution_count": null,
   "id": "49dc19ca",
   "metadata": {
    "papermill": {
     "duration": 0.026181,
     "end_time": "2025-01-23T16:00:05.150618",
     "exception": false,
     "start_time": "2025-01-23T16:00:05.124437",
     "status": "completed"
    },
    "tags": []
   },
   "outputs": [],
   "source": [
    "df.Label.value_counts()"
   ]
  },
  {
   "cell_type": "code",
   "execution_count": null,
   "id": "ffcb51c3",
   "metadata": {
    "papermill": {
     "duration": 2.028751,
     "end_time": "2025-01-23T16:00:07.195387",
     "exception": false,
     "start_time": "2025-01-23T16:00:05.166636",
     "status": "completed"
    },
    "tags": []
   },
   "outputs": [],
   "source": [
    "import plotly.express as px\n",
    "import pandas as pd\n",
    "\n",
    "# Contagem de valores da coluna 'Label'\n",
    "label_counts = df['Label'].value_counts().reset_index()\n",
    "label_counts.columns = ['Label', 'Count']\n",
    "\n",
    "# Gráfico de pizza com buraco (do tipo donut)\n",
    "fig = px.pie(label_counts,\n",
    "             values='Count',\n",
    "             names='Label',\n",
    "             hole=0.5,\n",
    "             title='Label distribution of the Text')\n",
    "\n",
    "fig.show()"
   ]
  },
  {
   "cell_type": "code",
   "execution_count": null,
   "id": "3c8abdf1",
   "metadata": {
    "papermill": {
     "duration": 0.02651,
     "end_time": "2025-01-23T16:00:07.237646",
     "exception": false,
     "start_time": "2025-01-23T16:00:07.211136",
     "status": "completed"
    },
    "scrolled": true,
    "tags": []
   },
   "outputs": [],
   "source": [
    "df.head()"
   ]
  },
  {
   "cell_type": "code",
   "execution_count": null,
   "id": "f629a034",
   "metadata": {
    "papermill": {
     "duration": 0.025571,
     "end_time": "2025-01-23T16:00:07.278906",
     "exception": false,
     "start_time": "2025-01-23T16:00:07.253335",
     "status": "completed"
    },
    "tags": []
   },
   "outputs": [],
   "source": [
    "df['Text'][df['Label'] == 'Politics'][0]"
   ]
  },
  {
   "cell_type": "code",
   "execution_count": null,
   "id": "63d6d118",
   "metadata": {
    "papermill": {
     "duration": 0.024111,
     "end_time": "2025-01-23T16:00:07.319334",
     "exception": false,
     "start_time": "2025-01-23T16:00:07.295223",
     "status": "completed"
    },
    "tags": []
   },
   "outputs": [],
   "source": [
    "def cleanTweets(text):\n",
    "    txt = text.lower() #convert all letters to lower case\n",
    "    txt = re.sub(\"@[A-Za-z0-9_]+\",\"\", txt) #remove mentions\n",
    "    txt = re.sub(r\"http\\S+\", \"\", txt) #remove url's https tags\n",
    "    txt = re.sub(r\"www.\\S+\", \"\", txt) #remove url's www tags\n",
    "    txt = re.sub(\"[^a-z0-9]\",\" \", txt) #remove non-alphanumeric characters\n",
    "    txt = re.sub('[\\s]+', ' ', txt) #Remove additional white spaces\n",
    "    return txt"
   ]
  },
  {
   "cell_type": "code",
   "execution_count": null,
   "id": "8a80ae13",
   "metadata": {
    "papermill": {
     "duration": 0.629841,
     "end_time": "2025-01-23T16:00:07.966096",
     "exception": false,
     "start_time": "2025-01-23T16:00:07.336255",
     "status": "completed"
    },
    "tags": []
   },
   "outputs": [],
   "source": [
    "cleantext = []\n",
    "\n",
    "for item in df['Text']:\n",
    "    txt = cleanTweets(item)\n",
    "    cleantext += [txt]\n",
    "\n",
    "df['clean_text'] = cleantext\n",
    "df.head(10)"
   ]
  },
  {
   "cell_type": "code",
   "execution_count": null,
   "id": "1581b584",
   "metadata": {
    "papermill": {
     "duration": 0.085633,
     "end_time": "2025-01-23T16:00:08.068019",
     "exception": false,
     "start_time": "2025-01-23T16:00:07.982386",
     "status": "completed"
    },
    "tags": []
   },
   "outputs": [],
   "source": [
    "df = df.drop(['Text'],axis=1)\n",
    "df.head()"
   ]
  },
  {
   "cell_type": "code",
   "execution_count": null,
   "id": "a03def9e",
   "metadata": {
    "papermill": {
     "duration": 0.030566,
     "end_time": "2025-01-23T16:00:08.115430",
     "exception": false,
     "start_time": "2025-01-23T16:00:08.084864",
     "status": "completed"
    },
    "tags": []
   },
   "outputs": [],
   "source": [
    "import nltk\n",
    "nltk.download('stopwords')\n",
    "stop = stopwords.words('english')\n",
    "stop[0:10]"
   ]
  },
  {
   "cell_type": "code",
   "execution_count": null,
   "id": "c6daf557",
   "metadata": {
    "papermill": {
     "duration": 0.023839,
     "end_time": "2025-01-23T16:00:08.155641",
     "exception": false,
     "start_time": "2025-01-23T16:00:08.131802",
     "status": "completed"
    },
    "tags": []
   },
   "outputs": [],
   "source": [
    "def remove_stopwords(text):\n",
    "    text = [word.lower() for word in text.split() if word.lower() not in stop]\n",
    "    return \" \".join(text)"
   ]
  },
  {
   "cell_type": "code",
   "execution_count": null,
   "id": "ab884ac9",
   "metadata": {
    "papermill": {
     "duration": 1.840228,
     "end_time": "2025-01-23T16:00:10.012504",
     "exception": false,
     "start_time": "2025-01-23T16:00:08.172276",
     "status": "completed"
    },
    "tags": []
   },
   "outputs": [],
   "source": [
    "df['clean_text'] = df['clean_text'].apply(remove_stopwords)\n",
    "df.head()"
   ]
  },
  {
   "cell_type": "code",
   "execution_count": null,
   "id": "d64c4364",
   "metadata": {
    "papermill": {
     "duration": 0.028296,
     "end_time": "2025-01-23T16:00:10.063164",
     "exception": false,
     "start_time": "2025-01-23T16:00:10.034868",
     "status": "completed"
    },
    "tags": []
   },
   "outputs": [],
   "source": [
    "df['clean_text'][df['Label'] == 'Politics'][0]"
   ]
  },
  {
   "cell_type": "code",
   "execution_count": null,
   "id": "ab4300fa",
   "metadata": {
    "papermill": {
     "duration": 0.024807,
     "end_time": "2025-01-23T16:00:10.105022",
     "exception": false,
     "start_time": "2025-01-23T16:00:10.080215",
     "status": "completed"
    },
    "tags": []
   },
   "outputs": [],
   "source": [
    "def create_wordclouds(text, label):\n",
    "    texts = []\n",
    "    \n",
    "    for word_list in df[df['Label']==label]['clean_text'].str.split():\n",
    "        for word in word_list:\n",
    "            texts.append(word)\n",
    "    return texts"
   ]
  },
  {
   "cell_type": "code",
   "execution_count": null,
   "id": "06ca4820",
   "metadata": {
    "papermill": {
     "duration": 1.528726,
     "end_time": "2025-01-23T16:00:11.650731",
     "exception": false,
     "start_time": "2025-01-23T16:00:10.122005",
     "status": "completed"
    },
    "tags": []
   },
   "outputs": [],
   "source": [
    "wordcloud_politics = create_wordclouds(df,'Politics')\n",
    "word_cloud_politics = WordCloud(background_color='white',max_font_size=100).generate(\" \".join(wordcloud_politics))\n",
    "plt.figure(figsize=(12,8))\n",
    "plt.imshow(word_cloud_politics)\n",
    "plt.title(\"Wordcloud for Label - 'Politics'\")\n",
    "plt.axis('off')\n",
    "plt.show()"
   ]
  },
  {
   "cell_type": "code",
   "execution_count": null,
   "id": "feba8f6b",
   "metadata": {
    "papermill": {
     "duration": 1.329888,
     "end_time": "2025-01-23T16:00:13.006471",
     "exception": false,
     "start_time": "2025-01-23T16:00:11.676583",
     "status": "completed"
    },
    "tags": []
   },
   "outputs": [],
   "source": [
    "wordcloud_sport = create_wordclouds(df,'Sport')\n",
    "word_cloud_sport = WordCloud(background_color='black',max_font_size=100).generate(\" \".join(wordcloud_sport))\n",
    "plt.figure(figsize=(12,8))\n",
    "plt.imshow(word_cloud_sport)\n",
    "plt.title(\"Wordcloud for Label - 'Sport'\")\n",
    "plt.axis('off')\n",
    "plt.show()"
   ]
  },
  {
   "cell_type": "code",
   "execution_count": null,
   "id": "ae1e6c89",
   "metadata": {
    "papermill": {
     "duration": 1.3845,
     "end_time": "2025-01-23T16:00:14.424394",
     "exception": false,
     "start_time": "2025-01-23T16:00:13.039894",
     "status": "completed"
    },
    "tags": []
   },
   "outputs": [],
   "source": [
    "wordcloud_tech = create_wordclouds(df,'Technology')\n",
    "word_cloud_tech = WordCloud(background_color='gray',max_font_size=80).generate(\" \".join(wordcloud_tech))\n",
    "plt.figure(figsize=(12,8))\n",
    "plt.imshow(word_cloud_tech)\n",
    "plt.title(\"Wordcloud for Label - 'Technology'\")\n",
    "plt.axis('off')\n",
    "plt.show()"
   ]
  },
  {
   "cell_type": "code",
   "execution_count": null,
   "id": "1fdc6ae0",
   "metadata": {
    "papermill": {
     "duration": 1.246802,
     "end_time": "2025-01-23T16:00:15.712145",
     "exception": false,
     "start_time": "2025-01-23T16:00:14.465343",
     "status": "completed"
    },
    "tags": []
   },
   "outputs": [],
   "source": [
    "wordcloud_ent = create_wordclouds(df,'Entertainment')\n",
    "word_cloud_ent = WordCloud(background_color='gray',max_font_size=80).generate(\" \".join(wordcloud_ent))\n",
    "plt.figure(figsize=(12,8))\n",
    "plt.imshow(word_cloud_ent)\n",
    "plt.title(\"Wordcloud for Label - 'Entertainment'\")\n",
    "plt.axis('off')\n",
    "plt.show()"
   ]
  },
  {
   "cell_type": "code",
   "execution_count": null,
   "id": "71701491",
   "metadata": {
    "papermill": {
     "duration": 1.393023,
     "end_time": "2025-01-23T16:00:17.155793",
     "exception": false,
     "start_time": "2025-01-23T16:00:15.762770",
     "status": "completed"
    },
    "tags": []
   },
   "outputs": [],
   "source": [
    "wordcloud_bus = create_wordclouds(df,'Business')\n",
    "word_cloud_bus = WordCloud(background_color='gray',max_font_size=80).generate(\" \".join(wordcloud_bus))\n",
    "plt.figure(figsize=(12,8))\n",
    "plt.imshow(word_cloud_bus)\n",
    "plt.title(\"Wordcloud for Label - 'Business'\")\n",
    "plt.axis('off')\n",
    "plt.show()"
   ]
  },
  {
   "cell_type": "code",
   "execution_count": null,
   "id": "b73d5e70",
   "metadata": {
    "papermill": {
     "duration": 0.069029,
     "end_time": "2025-01-23T16:00:17.281201",
     "exception": false,
     "start_time": "2025-01-23T16:00:17.212172",
     "status": "completed"
    },
    "tags": []
   },
   "outputs": [],
   "source": [
    "df['text_length'] = df['clean_text'].apply(len)\n",
    "df.head()"
   ]
  },
  {
   "cell_type": "code",
   "execution_count": null,
   "id": "2d8769c6",
   "metadata": {
    "papermill": {
     "duration": 0.375958,
     "end_time": "2025-01-23T16:00:17.711681",
     "exception": false,
     "start_time": "2025-01-23T16:00:17.335723",
     "status": "completed"
    },
    "tags": []
   },
   "outputs": [],
   "source": [
    "plt.figure(figsize=(10,5))\n",
    "df['text_length'].plot(bins=50,kind='hist');"
   ]
  },
  {
   "cell_type": "code",
   "execution_count": null,
   "id": "64af9eb9",
   "metadata": {
    "papermill": {
     "duration": 0.989552,
     "end_time": "2025-01-23T16:00:18.756110",
     "exception": false,
     "start_time": "2025-01-23T16:00:17.766558",
     "status": "completed"
    },
    "tags": []
   },
   "outputs": [],
   "source": [
    "fig,(ax1,ax2,ax3, ax4, ax5) = plt.subplots(nrows=1,ncols=5,figsize=(20,5))\n",
    "\n",
    "text_len = df[df['Label']=='Politics']['text_length']\n",
    "ax1.hist(text_len,color='green',bins=30)\n",
    "ax1.set_title('Politics')\n",
    "\n",
    "text_len = df[df['Label']=='Sport']['text_length']\n",
    "ax2.hist(text_len,color='red',bins=30)\n",
    "ax2.set_title('Sport')\n",
    "\n",
    "text_len = df[df['Label']=='Technology']['text_length']\n",
    "ax3.hist(text_len,color='yellow',bins=30)\n",
    "ax3.set_title('Technology')\n",
    "\n",
    "text_len = df[df['Label']=='Entertainment']['text_length']\n",
    "ax4.hist(text_len,color='blue',bins=30)\n",
    "ax4.set_title('Entertainment')\n",
    "text_len = df[df['Label']=='Business']['text_length']\n",
    "ax5.hist(text_len,color='black',bins=30)\n",
    "ax5.set_title('Business')\n",
    "\n",
    "fig.suptitle('Character length analysis in Text')\n",
    "plt.show()"
   ]
  },
  {
   "cell_type": "code",
   "execution_count": null,
   "id": "7b596497",
   "metadata": {
    "papermill": {
     "duration": 0.066493,
     "end_time": "2025-01-23T16:00:18.880013",
     "exception": false,
     "start_time": "2025-01-23T16:00:18.813520",
     "status": "completed"
    },
    "tags": []
   },
   "outputs": [],
   "source": [
    "df.drop(['text_length'],axis=1,inplace=True)"
   ]
  },
  {
   "cell_type": "code",
   "execution_count": null,
   "id": "dec57576",
   "metadata": {
    "papermill": {
     "duration": 0.070016,
     "end_time": "2025-01-23T16:00:19.021676",
     "exception": false,
     "start_time": "2025-01-23T16:00:18.951660",
     "status": "completed"
    },
    "tags": []
   },
   "outputs": [],
   "source": [
    "df.head()"
   ]
  },
  {
   "cell_type": "code",
   "execution_count": null,
   "id": "70a35ed9",
   "metadata": {
    "papermill": {
     "duration": 0.065813,
     "end_time": "2025-01-23T16:00:19.143246",
     "exception": false,
     "start_time": "2025-01-23T16:00:19.077433",
     "status": "completed"
    },
    "tags": []
   },
   "outputs": [],
   "source": [
    "def get_top_tweet_bigrams(corpus, n=None):\n",
    "    vec = CountVectorizer(ngram_range=(2, 2)).fit(corpus)\n",
    "    bag_of_words = vec.transform(corpus)\n",
    "    sum_words = bag_of_words.sum(axis=0) \n",
    "    words_freq = [(word, sum_words[0, idx]) for word, idx in vec.vocabulary_.items()]\n",
    "    words_freq =sorted(words_freq, key = lambda x: x[1], reverse=True)\n",
    "    return words_freq[:n]"
   ]
  },
  {
   "cell_type": "code",
   "execution_count": null,
   "id": "d3f2beb8",
   "metadata": {
    "papermill": {
     "duration": 3.4175,
     "end_time": "2025-01-23T16:00:22.616861",
     "exception": false,
     "start_time": "2025-01-23T16:00:19.199361",
     "status": "completed"
    },
    "tags": []
   },
   "outputs": [],
   "source": [
    "plt.figure(figsize=(10,5))\n",
    "top_tweet_bigrams=get_top_tweet_bigrams(df['clean_text'])[:10]\n",
    "x,y=map(list,zip(*top_tweet_bigrams))\n",
    "sns.barplot(x=y,y=x);"
   ]
  },
  {
   "cell_type": "code",
   "execution_count": null,
   "id": "d49aea42",
   "metadata": {
    "papermill": {
     "duration": 0.96292,
     "end_time": "2025-01-23T16:00:23.636108",
     "exception": false,
     "start_time": "2025-01-23T16:00:22.673188",
     "status": "completed"
    },
    "tags": []
   },
   "outputs": [],
   "source": [
    "vectorizer = CountVectorizer()\n",
    "vectorizer.fit(df['clean_text'])\n",
    "vector = vectorizer.transform(df['clean_text'])\n",
    "print(vector.shape)"
   ]
  },
  {
   "cell_type": "code",
   "execution_count": null,
   "id": "3605d56a",
   "metadata": {
    "papermill": {
     "duration": 1.150143,
     "end_time": "2025-01-23T16:00:24.842377",
     "exception": false,
     "start_time": "2025-01-23T16:00:23.692234",
     "status": "completed"
    },
    "tags": []
   },
   "outputs": [],
   "source": [
    "cv = CountVectorizer(stop_words = 'english')\n",
    "words = cv.fit_transform(df.clean_text)\n",
    "\n",
    "sum_words = words.sum(axis=0)\n",
    "\n",
    "words_freq = [(word, sum_words[0, i]) for word, i in cv.vocabulary_.items()]\n",
    "words_freq = sorted(words_freq, key = lambda x: x[1], reverse = True)\n",
    "\n",
    "frequency = pd.DataFrame(words_freq, columns=['word', 'freq'])\n",
    "\n",
    "frequency.head(30).plot(x='word', y='freq', kind='bar', figsize=(15, 7), color = 'blue')\n",
    "plt.title(\"Most Frequently Occuring Words - Top 30\");"
   ]
  },
  {
   "cell_type": "code",
   "execution_count": null,
   "id": "98e75d2e",
   "metadata": {
    "papermill": {
     "duration": 0.878282,
     "end_time": "2025-01-23T16:00:25.778363",
     "exception": false,
     "start_time": "2025-01-23T16:00:24.900081",
     "status": "completed"
    },
    "tags": []
   },
   "outputs": [],
   "source": [
    "tfidf_converter = TfidfTransformer()\n",
    "X_tfidf = tfidf_converter.fit_transform(vector).toarray()"
   ]
  },
  {
   "cell_type": "code",
   "execution_count": null,
   "id": "59ed2347",
   "metadata": {
    "papermill": {
     "duration": 0.072533,
     "end_time": "2025-01-23T16:00:25.909438",
     "exception": false,
     "start_time": "2025-01-23T16:00:25.836905",
     "status": "completed"
    },
    "tags": []
   },
   "outputs": [],
   "source": [
    "df.head()"
   ]
  },
  {
   "cell_type": "code",
   "execution_count": null,
   "id": "3e062512",
   "metadata": {
    "papermill": {
     "duration": 0.070463,
     "end_time": "2025-01-23T16:00:26.037893",
     "exception": false,
     "start_time": "2025-01-23T16:00:25.967430",
     "status": "completed"
    },
    "tags": []
   },
   "outputs": [],
   "source": [
    "X_tfidf[0:5]"
   ]
  },
  {
   "cell_type": "code",
   "execution_count": null,
   "id": "f0e52179",
   "metadata": {
    "papermill": {
     "duration": 0.227171,
     "end_time": "2025-01-23T16:00:26.323613",
     "exception": false,
     "start_time": "2025-01-23T16:00:26.096442",
     "status": "completed"
    },
    "tags": []
   },
   "outputs": [],
   "source": [
    "print(df.Label.value_counts())\n",
    "sns.countplot(data=df, x='Label');\n"
   ]
  },
  {
   "cell_type": "code",
   "execution_count": null,
   "id": "82baf82d",
   "metadata": {
    "papermill": {
     "duration": 0.301752,
     "end_time": "2025-01-23T16:00:26.683392",
     "exception": false,
     "start_time": "2025-01-23T16:00:26.381640",
     "status": "completed"
    },
    "tags": []
   },
   "outputs": [],
   "source": [
    "X = X_tfidf\n",
    "y = df['Label']\n",
    "\n",
    "X_train, X_test, y_train, y_test = train_test_split(X,y,test_size=0.3, random_state=123)"
   ]
  },
  {
   "cell_type": "code",
   "execution_count": null,
   "id": "718fd90a",
   "metadata": {
    "papermill": {
     "duration": 3.183444,
     "end_time": "2025-01-23T16:01:11.270300",
     "exception": false,
     "start_time": "2025-01-23T16:01:08.086856",
     "status": "completed"
    },
    "tags": []
   },
   "outputs": [],
   "source": [
    "dt = DecisionTreeClassifier()\n",
    "dt.fit(X_train, y_train)\n",
    "y_pred_dt = dt.predict(X_test)"
   ]
  },
  {
   "cell_type": "code",
   "execution_count": null,
   "id": "6b6a5760",
   "metadata": {
    "papermill": {
     "duration": 0.093043,
     "end_time": "2025-01-23T16:01:11.425978",
     "exception": false,
     "start_time": "2025-01-23T16:01:11.332935",
     "status": "completed"
    },
    "scrolled": true,
    "tags": []
   },
   "outputs": [],
   "source": [
    "accuracy_dt = accuracy_score(y_test, y_pred_dt)\n",
    "print(\"Decision Tree Accuracy:\", accuracy_dt)\n",
    "print(\"Classification Report Decision Tree:\")\n",
    "print(classification_report(y_test, y_pred_dt))"
   ]
  },
  {
   "cell_type": "code",
   "execution_count": null,
   "id": "4c944c43",
   "metadata": {
    "papermill": {
     "duration": 0.376227,
     "end_time": "2025-01-23T16:01:11.863598",
     "exception": false,
     "start_time": "2025-01-23T16:01:11.487371",
     "status": "completed"
    },
    "scrolled": true,
    "tags": []
   },
   "outputs": [],
   "source": [
    "cm = confusion_matrix(y_test,y_pred_dt)\n",
    "\n",
    "import seaborn as sns\n",
    "import matplotlib.pyplot as plt\n",
    "sns.heatmap(cm,\n",
    "           annot=True,\n",
    "           fmt='d')\n",
    "plt.title('prediction result');"
   ]
  },
  {
   "cell_type": "code",
   "execution_count": null,
   "id": "27095996",
   "metadata": {
    "papermill": {
     "duration": 0.07392,
     "end_time": "2025-01-23T16:01:12.002738",
     "exception": false,
     "start_time": "2025-01-23T16:01:11.928818",
     "status": "completed"
    },
    "scrolled": true,
    "tags": []
   },
   "outputs": [],
   "source": [
    "import time\n",
    "start = time.time()\n",
    "stop = time.time()\n",
    "print(f\"Training time: {stop - start}s\")"
   ]
  },
  {
   "cell_type": "code",
   "execution_count": null,
   "id": "93c4aa0a",
   "metadata": {
    "papermill": {
     "duration": 0.71123,
     "end_time": "2025-01-23T16:01:12.778522",
     "exception": false,
     "start_time": "2025-01-23T16:01:12.067292",
     "status": "completed"
    },
    "tags": []
   },
   "outputs": [],
   "source": [
    "%timeit -n 5 -r 3 dt.predict(X_test)"
   ]
  },
  {
   "cell_type": "code",
   "execution_count": null,
   "id": "220be0e0",
   "metadata": {
    "papermill": {
     "duration": 4.92354,
     "end_time": "2025-01-23T16:00:47.640586",
     "exception": false,
     "start_time": "2025-01-23T16:00:42.717046",
     "status": "completed"
    },
    "tags": []
   },
   "outputs": [],
   "source": [
    "rf = RandomForestClassifier()\n",
    "rf.fit(X_train, y_train)\n",
    "y_pred_rf = rf.predict(X_test)\n",
    "rf_df = pd.DataFrame(y_pred_rf, columns=['Pred_RandomForestClassifier'])"
   ]
  },
  {
   "cell_type": "code",
   "execution_count": null,
   "id": "035d41d3",
   "metadata": {
    "papermill": {
     "duration": 0.09998,
     "end_time": "2025-01-23T16:00:47.800458",
     "exception": false,
     "start_time": "2025-01-23T16:00:47.700478",
     "status": "completed"
    },
    "tags": []
   },
   "outputs": [],
   "source": [
    "accuracy_rf = accuracy_score(y_test, y_pred_rf)\n",
    "print(\"RF:\", accuracy_rf)\n",
    "print(\"Classification Report RF:\")\n",
    "print(classification_report(y_test, y_pred_rf))"
   ]
  },
  {
   "cell_type": "code",
   "execution_count": null,
   "id": "460ecf83",
   "metadata": {
    "papermill": {
     "duration": 0.393421,
     "end_time": "2025-01-23T16:00:48.255109",
     "exception": false,
     "start_time": "2025-01-23T16:00:47.861688",
     "status": "completed"
    },
    "tags": []
   },
   "outputs": [],
   "source": [
    "cm = confusion_matrix(y_test,y_pred_rf)\n",
    "\n",
    "import seaborn as sns\n",
    "import matplotlib.pyplot as plt\n",
    "sns.heatmap(cm,\n",
    "           annot=True,\n",
    "           fmt='d')\n",
    "plt.title('prediction result');"
   ]
  },
  {
   "cell_type": "code",
   "execution_count": null,
   "id": "ae7adda9",
   "metadata": {
    "papermill": {
     "duration": 0.068819,
     "end_time": "2025-01-23T16:00:48.386283",
     "exception": false,
     "start_time": "2025-01-23T16:00:48.317464",
     "status": "completed"
    },
    "tags": []
   },
   "outputs": [],
   "source": [
    "import time\n",
    "start = time.time()\n",
    "stop = time.time()\n",
    "print(f\"Training time: {stop - start}s\")"
   ]
  },
  {
   "cell_type": "code",
   "execution_count": null,
   "id": "afe7d9c8",
   "metadata": {
    "papermill": {
     "duration": 1.226704,
     "end_time": "2025-01-23T16:00:49.673525",
     "exception": false,
     "start_time": "2025-01-23T16:00:48.446821",
     "status": "completed"
    },
    "tags": []
   },
   "outputs": [],
   "source": [
    "%timeit -n 5 -r 3 rf.predict(X_test)"
   ]
  }
 ],
 "metadata": {
  "kaggle": {
   "accelerator": "none",
   "dataSources": [
    {
     "datasetId": 4107678,
     "sourceId": 7121520,
     "sourceType": "datasetVersion"
    }
   ],
   "dockerImageVersionId": 30839,
   "isGpuEnabled": false,
   "isInternetEnabled": false,
   "language": "python",
   "sourceType": "notebook"
  },
  "kernelspec": {
   "display_name": "Python 3 (ipykernel)",
   "language": "python",
   "name": "python3"
  },
  "language_info": {
   "codemirror_mode": {
    "name": "ipython",
    "version": 3
   },
   "file_extension": ".py",
   "mimetype": "text/x-python",
   "name": "python",
   "nbconvert_exporter": "python",
   "pygments_lexer": "ipython3",
   "version": "3.11.6"
  },
  "papermill": {
   "default_parameters": {},
   "duration": 878.212632,
   "end_time": "2025-01-23T16:14:34.368379",
   "environment_variables": {},
   "exception": null,
   "input_path": "__notebook__.ipynb",
   "output_path": "__notebook__.ipynb",
   "parameters": {},
   "start_time": "2025-01-23T15:59:56.155747",
   "version": "2.6.0"
  }
 },
 "nbformat": 4,
 "nbformat_minor": 5
}
